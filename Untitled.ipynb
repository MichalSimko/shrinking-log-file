{
 "cells": [
  {
   "cell_type": "code",
   "execution_count": 1,
   "metadata": {},
   "outputs": [],
   "source": [
    "import pandas as pd\n",
    "import datetime\n",
    "import numpy as np\n",
    "import re\n",
    "from re import search"
   ]
  },
  {
   "cell_type": "code",
   "execution_count": 2,
   "metadata": {},
   "outputs": [],
   "source": [
    "stlpce = [\"IP\", \"Cookie\", \"User\", \"Time\", \"TimeZone\", \"RequestMethod_a_URL\", \"StatusCode\", \"Bity\", \"Referer\", \"Agent\"]\n",
    "data = pd.read_csv(\"wm2020projekt.log\", sep=\" \", names = stlpce, error_bad_lines=False, skiprows = 25000000, nrows=3000000, low_memory=False)\n",
    "datumy = ['17/Sep/2017:', '18/Sep/2017:','19/Sep/2017:','20/Sep/2017:','21/Sep/2017:','22/Sep/2017:','23/Sep/2017:']\n",
    "data = data[data['Time'].str.contains('|'.join(datumy)) == True].reset_index(drop=True)"
   ]
  },
  {
   "cell_type": "code",
   "execution_count": 3,
   "metadata": {},
   "outputs": [],
   "source": [
    "data.to_excel(r'simko3.xlsx', sheet_name = 'main', index=None)"
   ]
  },
  {
   "cell_type": "code",
   "execution_count": null,
   "metadata": {},
   "outputs": [],
   "source": []
  }
 ],
 "metadata": {
  "kernelspec": {
   "display_name": "Python 3",
   "language": "python",
   "name": "python3"
  },
  "language_info": {
   "codemirror_mode": {
    "name": "ipython",
    "version": 3
   },
   "file_extension": ".py",
   "mimetype": "text/x-python",
   "name": "python",
   "nbconvert_exporter": "python",
   "pygments_lexer": "ipython3",
   "version": "3.8.5"
  }
 },
 "nbformat": 4,
 "nbformat_minor": 4
}
