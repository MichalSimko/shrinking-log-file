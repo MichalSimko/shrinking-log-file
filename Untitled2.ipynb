{
 "cells": [
  {
   "cell_type": "code",
   "execution_count": 1,
   "metadata": {},
   "outputs": [],
   "source": [
    "import pandas as pd\n",
    "import datetime\n",
    "import numpy as np\n",
    "import re\n",
    "from re import search"
   ]
  },
  {
   "cell_type": "code",
   "execution_count": 2,
   "metadata": {},
   "outputs": [],
   "source": [
    "with open(\"Michal_Šimko_log.txt\", 'r') as infile, open('Michal_Šimko_log2.txt', 'w') as outfile:\n",
    "    logFile = infile.read()\n",
    "    logFile = logFile.replace(\"-\", \"\")\n",
    "    logFile = logFile.replace(\" +0200\", \"+0200\")\n",
    "    logFile = logFile.replace(\" /\", \"/\")\n",
    "    logFile = logFile.replace(\" HTTP\", \"HTTP\")\n",
    "    logFile = logFile.replace(\"   \", \" \")\n",
    "    outfile.write(logFile)"
   ]
  },
  {
   "cell_type": "code",
   "execution_count": 3,
   "metadata": {},
   "outputs": [
    {
     "name": "stderr",
     "output_type": "stream",
     "text": [
      "C:\\Users\\micha\\anaconda3\\lib\\site-packages\\IPython\\core\\interactiveshell.py:3146: DtypeWarning: Columns (3,4,7) have mixed types.Specify dtype option on import or set low_memory=False.\n",
      "  has_raised = await self.run_ast_nodes(code_ast.body, cell_name,\n"
     ]
    }
   ],
   "source": [
    "colNames = [\"IP\", \"DateTime\", \"URL\", \"ResponseCode\",\"Bytes\",\"Referrer\",\"UserAgent\",\"UNIXTIME\"]\n",
    "df = pd.read_csv(\"Michal_Šimko_log2.txt\", sep=\" \", names=colNames)"
   ]
  },
  {
   "cell_type": "code",
   "execution_count": 4,
   "metadata": {},
   "outputs": [],
   "source": [
    "df['Referrer'].fillna(\"-\",inplace=True)"
   ]
  },
  {
   "cell_type": "code",
   "execution_count": 5,
   "metadata": {},
   "outputs": [],
   "source": [
    "df[\"ResponseCode\"]= df[\"ResponseCode\"].apply(str) \n",
    "deleteRowsWithValues = [\"1\", \"4\", \"5\"]\n",
    "df = df[~df[\"ResponseCode\"].str[:1].str.contains('|'.join(deleteRowsWithValues))]"
   ]
  },
  {
   "cell_type": "code",
   "execution_count": 6,
   "metadata": {},
   "outputs": [],
   "source": [
    "deleteRowsWithValues = [\"POST\", \"HEAD\",\".bmp\", \".jpg\", \".jpeg\", \".png\", \".gif\", \".JPG\", \".css\", \".flv\", \".ico\", \".swf\"\n",
    "                       , \".rss\", \".xml\", \".cur\", \".js\", \".json\", \".svg\", \".woff\", \".eot\"]\n",
    "df = df[~df[\"URL\"].str.contains('|'.join(deleteRowsWithValues))]"
   ]
  },
  {
   "cell_type": "code",
   "execution_count": 7,
   "metadata": {},
   "outputs": [],
   "source": [
    "for x in df['URL']:\n",
    "        if re.search(\"navbar\",x) or re.search(\"cron\",x):\n",
    "            df.drop(df.index[df['URL'] == x], inplace = True)"
   ]
  },
  {
   "cell_type": "code",
   "execution_count": 8,
   "metadata": {},
   "outputs": [],
   "source": [
    "data=df[df['URL'].str.contains(\"robots.txt\")]\n",
    "z=pd.unique(data['IP'])"
   ]
  },
  {
   "cell_type": "code",
   "execution_count": 9,
   "metadata": {},
   "outputs": [],
   "source": [
    "for x in data['IP']:\n",
    "    for y in z:\n",
    "        if x==y:\n",
    "            df.drop(df.index[df['IP'] == x], inplace = True)"
   ]
  },
  {
   "cell_type": "code",
   "execution_count": 10,
   "metadata": {},
   "outputs": [],
   "source": [
    "df['UserAgent']=df['UserAgent'].apply(str)\n",
    "for x in df['UserAgent']:\n",
    "    if re.search(\"bot\",x) or re.search(\"crawl\",x) or re.search(\"spider\",x):\n",
    "        df.drop(df.index[df['UserAgent'] == x], inplace = True)  \n",
    "        \n",
    "len(df)\n",
    "df.to_csv(r'Michal_Šimko_log2.txt.txt', header=None, index=None, sep=\" \")"
   ]
  },
  {
   "cell_type": "code",
   "execution_count": 11,
   "metadata": {},
   "outputs": [],
   "source": [
    "df = pd.read_csv(\"Michal_Šimko_log2.txt.txt\", sep=\" \", names=colNames)"
   ]
  },
  {
   "cell_type": "code",
   "execution_count": 12,
   "metadata": {},
   "outputs": [],
   "source": [
    "i=0\n",
    "for x in df['DateTime']:\n",
    "    if len(str(x))>21:\n",
    "        df.iloc[i, 7]=datetime.datetime(2017,9,int(x[1:3]),int(x[14]),int(x[16:18]),int(x[19:21])).timestamp()\n",
    "        i=i+1\n",
    "    else:\n",
    "        df.iloc[i, 7]=0\n",
    "        i=i+1     "
   ]
  },
  {
   "cell_type": "code",
   "execution_count": 13,
   "metadata": {},
   "outputs": [],
   "source": [
    "df1 = pd.DataFrame(df)\n",
    "df2 = pd.DataFrame(df.sort_values([\"IP\",\"UserAgent\",\"UNIXTIME\"], ascending=True))"
   ]
  },
  {
   "cell_type": "code",
   "execution_count": 14,
   "metadata": {},
   "outputs": [],
   "source": [
    "df2['ID'] = \"\"\n",
    "df2['ID'] = df2.groupby(['IP','UserAgent']).ngroup()"
   ]
  },
  {
   "cell_type": "code",
   "execution_count": 15,
   "metadata": {},
   "outputs": [],
   "source": [
    "SequenceID = 3600\n",
    "length = []\n",
    "index = 0\n",
    "nextIndex = 1\n",
    "for i in range(1,len(df2)):\n",
    "    if((df2.iloc[nextIndex,[8]].values == df2.iloc[index,[8]].values) and ((df2.iloc[nextIndex,[7]].values-df2.iloc[index,[7]].values) < SequenceID)):\n",
    "        length.append(str(df2.iloc[nextIndex,[7]].values-df2.iloc[index,[7]].values))\n",
    "        index+=1\n",
    "        nextIndex+=1\n",
    "    else:\n",
    "        length.append(\"\")\n",
    "        index+=1\n",
    "        nextIndex+=1"
   ]
  },
  {
   "cell_type": "code",
   "execution_count": 16,
   "metadata": {},
   "outputs": [],
   "source": [
    "length.append(\"\") \n",
    "df2[\"Length\"] = length\n",
    "df2[\"Length\"] = df2[\"Length\"].apply(lambda x: x.replace(\"[\", \"\"))\n",
    "df2[\"Length\"] = df2[\"Length\"].apply(lambda x: x.replace(\"]\", \"\"))\n",
    "df2['Length'] = pd.to_numeric(df2['Length'])"
   ]
  },
  {
   "cell_type": "code",
   "execution_count": 20,
   "metadata": {},
   "outputs": [],
   "source": [
    "podielNavigacnychStranok = 40 \n",
    "p = podielNavigacnychStranok/100 \n",
    "hodnotaLambda = df2[\"Length\"].mean()\n",
    "c = -np.log(1-p)/(1/hodnotaLambda)\n",
    "\n",
    "sedenia = []\n",
    "sedeniaNumber = 1\n",
    "i = 0\n",
    "pamat = 0  \n",
    "while i < 151969:\n",
    "    if(df2.iloc[i,8] == df2.iloc[i+1,8]): \n",
    "        pamat += df2.iloc[i,9]\n",
    "        if(pamat < c):\n",
    "            sedenia.append(sedeniaNumber) \n",
    "        else:\n",
    "            sedenia.append(sedeniaNumber) \n",
    "            pamat = 0 \n",
    "            sedeniaNumber+=1\n",
    "        i+=1 \n",
    "    else:\n",
    "        pamat = 0\n",
    "        sedenia.append(sedeniaNumber)\n",
    "        sedeniaNumber+=1\n",
    "        i+=1\n",
    "sedenia.append(sedeniaNumber)\n",
    "df2[\"RLength\"] = sedenia "
   ]
  },
  {
   "cell_type": "code",
   "execution_count": 21,
   "metadata": {},
   "outputs": [],
   "source": [
    "c = df2[\"Length\"].mean()\n",
    "\n",
    "sedenia = []\n",
    "sedeniaNumber = 1\n",
    "i = 0\n",
    "pamat = 0  \n",
    "while i < 151969:\n",
    "    if(df2.iloc[i,8] == df2.iloc[i+1,8]): \n",
    "        pamat += df2.iloc[i,9]\n",
    "        if(pamat < c):\n",
    "            sedenia.append(sedeniaNumber) \n",
    "        else:\n",
    "            sedenia.append(sedeniaNumber) \n",
    "            pamat = 0 \n",
    "            sedeniaNumber+=1\n",
    "        i+=1 \n",
    "    else:\n",
    "        pamat = 0\n",
    "        sedenia.append(sedeniaNumber)\n",
    "        sedeniaNumber+=1\n",
    "        i+=1\n",
    "sedenia.append(sedeniaNumber)\n",
    "df2[\"STT_MEAN\"] = sedenia "
   ]
  },
  {
   "cell_type": "code",
   "execution_count": 22,
   "metadata": {},
   "outputs": [],
   "source": [
    "dolnyQ = df2[\"Length\"].quantile(.25)\n",
    "hornyQ = df2[\"Length\"].quantile(.75)\n",
    "Qrozpatie = hornyQ-dolnyQ\n",
    "c = hornyQ + (1.5*Qrozpatie)\n",
    "\n",
    "sedenia = []\n",
    "sedeniaNumber = 1\n",
    "i = 0\n",
    "pamat = 0  \n",
    "while i < 151969:\n",
    "    if(df2.iloc[i,8] == df2.iloc[i+1,8]):\n",
    "        pamat += df2.iloc[i,9] \n",
    "        if(pamat < c):\n",
    "            sedenia.append(sedeniaNumber)\n",
    "        else:\n",
    "            sedenia.append(sedeniaNumber) \n",
    "            pamat = 0\n",
    "            sedeniaNumber+=1\n",
    "        i+=1 \n",
    "    else:\n",
    "        pamat = 0\n",
    "        sedenia.append(sedeniaNumber)\n",
    "        sedeniaNumber+=1\n",
    "        i+=1\n",
    "sedenia.append(sedeniaNumber)\n",
    "df2[\"STT_Q\"] = sedenia "
   ]
  },
  {
   "cell_type": "code",
   "execution_count": 23,
   "metadata": {},
   "outputs": [],
   "source": [
    "sedenia = []\n",
    "sedeniaNumber = 1\n",
    "i = 0\n",
    "c= 600000\n",
    "pamat = 0  \n",
    "while i < 151969:\n",
    "    if(df2.iloc[i,11] == df2.iloc[i+1,11]): \n",
    "        pamat += df2.iloc[i,12] \n",
    "        if(pamat < c): \n",
    "            sedenia.append(sedeniaNumber) \n",
    "        else:\n",
    "            sedenia.append(sedeniaNumber) \n",
    "            pamat = 0\n",
    "            sedeniaNumber+=1 \n",
    "        i+=1 \n",
    "    else:\n",
    "        pamat = 0\n",
    "        sedenia.append(sedeniaNumber)\n",
    "        sedeniaNumber+=1\n",
    "        i+=1\n",
    "sedenia.append(sedeniaNumber)\n",
    "df2[\"SLength\"] = sedenia "
   ]
  },
  {
   "cell_type": "code",
   "execution_count": 24,
   "metadata": {},
   "outputs": [
    {
     "name": "stderr",
     "output_type": "stream",
     "text": [
      "C:\\Users\\micha\\anaconda3\\lib\\site-packages\\xlsxwriter\\workbook.py:329: UserWarning: Calling close() on already closed file.\n",
      "  warn(\"Calling close() on already closed file.\")\n"
     ]
    }
   ],
   "source": [
    "writer = pd.ExcelWriter('Doplnanie_Ciest_PROJEKT_SIMKO1.xlsx', engine = 'xlsxwriter', options = {'strings_to_urls': False})\n",
    "df1.to_excel(writer, sheet_name = 'Main', index=None)\n",
    "df2.to_excel(writer, sheet_name = 'projekt', index=None)\n",
    "writer.save()\n",
    "writer.close() \n"
   ]
  },
  {
   "cell_type": "code",
   "execution_count": null,
   "metadata": {},
   "outputs": [],
   "source": []
  },
  {
   "cell_type": "code",
   "execution_count": null,
   "metadata": {},
   "outputs": [],
   "source": []
  }
 ],
 "metadata": {
  "kernelspec": {
   "display_name": "Python 3",
   "language": "python",
   "name": "python3"
  },
  "language_info": {
   "codemirror_mode": {
    "name": "ipython",
    "version": 3
   },
   "file_extension": ".py",
   "mimetype": "text/x-python",
   "name": "python",
   "nbconvert_exporter": "python",
   "pygments_lexer": "ipython3",
   "version": "3.8.5"
  }
 },
 "nbformat": 4,
 "nbformat_minor": 4
}
