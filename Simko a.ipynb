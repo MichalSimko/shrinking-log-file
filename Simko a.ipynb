{
 "cells": [
  {
   "cell_type": "code",
   "execution_count": 1,
   "metadata": {},
   "outputs": [],
   "source": [
    "import pandas as pd\n",
    "import datetime\n",
    "import numpy as np\n",
    "import re\n",
    "from re import search"
   ]
  },
  {
   "cell_type": "code",
   "execution_count": 2,
   "metadata": {},
   "outputs": [],
   "source": [
    "# replace values and create new Log_jeden_den2.txt file\n",
    "\n",
    "with open(\"log.txt\", 'r') as infile, open('Log_jeden_den2.txt', 'w') as outfile:\n",
    "    logFile = infile.read()\n",
    "    logFile = logFile.replace(\"-\", \"\")\n",
    "    logFile = logFile.replace(\" +0100\", \"+0100\")\n",
    "    logFile = logFile.replace(\" /\", \"/\")\n",
    "    logFile = logFile.replace(\" HTTP\", \"HTTP\")\n",
    "    logFile = logFile.replace(\"   \", \" \")\n",
    "    outfile.write(logFile)"
   ]
  },
  {
   "cell_type": "code",
   "execution_count": 3,
   "metadata": {},
   "outputs": [
    {
     "name": "stderr",
     "output_type": "stream",
     "text": [
      "C:\\Users\\micha\\anaconda3\\lib\\site-packages\\IPython\\core\\interactiveshell.py:3146: DtypeWarning: Columns (4,5,8) have mixed types.Specify dtype option on import or set low_memory=False.\n",
      "  has_raised = await self.run_ast_nodes(code_ast.body, cell_name,\n"
     ]
    }
   ],
   "source": [
    "# ResponseCode = navratovy kod ... napriklad 404-not found..\n",
    "# Refferer = zaznamenava, ze odkial som prisiel na danú stranku..takze je to \"predchadzajuca stranka\"\n",
    "# UserAgent = cez aky prehliadac pristupoval User na stranku, informacie o OS atd.\n",
    "\n",
    "colNames = [\"IP\", \"DateTime\", \"URL\", \"ResponseCode\",\"Bytes\",\"Referrer\",\"UserAgent\",\"UserId\",\"UNIXTIME\"]\n",
    "df = pd.read_csv(\"Log_jeden_den2.txt\", sep=\" \", names=colNames)"
   ]
  },
  {
   "cell_type": "code",
   "execution_count": 4,
   "metadata": {},
   "outputs": [],
   "source": [
    "# replace values NaN with \"-\" in column referrer\n",
    "\n",
    "df['Referrer'].fillna(\"-\",inplace=True)"
   ]
  },
  {
   "cell_type": "code",
   "execution_count": 5,
   "metadata": {},
   "outputs": [],
   "source": [
    "# delete rows with ResponseCodes (1xx, 4xx, 5xx) \n",
    "\n",
    "df[\"ResponseCode\"]= df[\"ResponseCode\"].apply(str) \n",
    "deleteRowsWithValues = [\"1\", \"4\", \"5\"]\n",
    "df = df[~df[\"ResponseCode\"].str[:1].str.contains('|'.join(deleteRowsWithValues))]"
   ]
  },
  {
   "cell_type": "code",
   "execution_count": 6,
   "metadata": {},
   "outputs": [],
   "source": [
    "# delete rows with URL [\"POST\", \"HEAD\" ...] \n",
    "deleteRowsWithValues = [\"POST\", \"HEAD\",\".bmp\", \".jpg\", \".jpeg\", \".png\", \".gif\", \".JPG\", \".css\", \".flv\", \".ico\", \".swf\"\n",
    "                       , \".rss\", \".xml\", \".cur\", \".js\", \".json\", \".svg\", \".woff\", \".eot\"]\n",
    "df = df[~df[\"URL\"].str.contains('|'.join(deleteRowsWithValues))]"
   ]
  },
  {
   "cell_type": "code",
   "execution_count": 7,
   "metadata": {},
   "outputs": [],
   "source": [
    "for x in df['URL']:\n",
    "        if re.search(\"navbar\",x) or re.search(\"cron\",x):\n",
    "            df.drop(df.index[df['URL'] == x], inplace = True)"
   ]
  },
  {
   "cell_type": "code",
   "execution_count": 8,
   "metadata": {},
   "outputs": [],
   "source": [
    "# set same ID for the same IPs\n",
    "IDnum = df.IP.unique()                          \n",
    "IDnum = pd.Series(np.arange(len(IDnum)), IDnum) \n",
    "df[\"UserId\"] = df.applymap(IDnum.get)"
   ]
  },
  {
   "cell_type": "code",
   "execution_count": 9,
   "metadata": {},
   "outputs": [],
   "source": [
    "# vytvorenie z Datetime na unixtime pomocou for cyklu  zistenia pozície danej hodnoty \n",
    "i=0\n",
    "for x in df['DateTime']:\n",
    "    if len(str(x))>21:\n",
    "        df.iloc[i, 8]=datetime.datetime(2020,2,int(x[1:3]),int(x[14]),int(x[16:18]),int(x[19:21])).timestamp()\n",
    "        i=i+1\n",
    "    else:\n",
    "        df.iloc[i, 8]='-'\n",
    "        i=i+1"
   ]
  },
  {
   "cell_type": "code",
   "execution_count": 10,
   "metadata": {},
   "outputs": [
    {
     "data": {
      "text/plain": [
       "0"
      ]
     },
     "execution_count": 10,
     "metadata": {},
     "output_type": "execute_result"
    }
   ],
   "source": [
    "data=df[df['URL'].str.contains(\"robots.txt\")]\n",
    "z=pd.unique(data['IP'])\n",
    "len(z)"
   ]
  },
  {
   "cell_type": "code",
   "execution_count": 11,
   "metadata": {},
   "outputs": [],
   "source": [
    "for x in data['IP']:\n",
    "    for y in z:\n",
    "        if x==y:\n",
    "            df.drop(df.index[df['IP'] == x], inplace = True)"
   ]
  },
  {
   "cell_type": "code",
   "execution_count": 12,
   "metadata": {},
   "outputs": [],
   "source": [
    "df['UserAgent']=df['UserAgent'].apply(str)\n",
    "for x in df['UserAgent']:\n",
    "    if re.search(\"bot\",x) or re.search(\"crawl\",x) or re.search(\"spider\",x):\n",
    "        df.drop(df.index[df['UserAgent'] == x], inplace = True)"
   ]
  },
  {
   "cell_type": "code",
   "execution_count": 13,
   "metadata": {},
   "outputs": [
    {
     "data": {
      "text/plain": [
       "1724418"
      ]
     },
     "execution_count": 13,
     "metadata": {},
     "output_type": "execute_result"
    }
   ],
   "source": [
    "len(df)"
   ]
  },
  {
   "cell_type": "code",
   "execution_count": 14,
   "metadata": {},
   "outputs": [],
   "source": [
    "df2=df.sort_values(['IP','UserAgent','UNIXTIME'], ascending=True)\n",
    "df2[\"id\"] =\"\"\n",
    "df2['id'] = df2.groupby(['IP','UserAgent']).ngroup()\n"
   ]
  },
  {
   "cell_type": "code",
   "execution_count": 15,
   "metadata": {
    "scrolled": true
   },
   "outputs": [
    {
     "data": {
      "text/html": [
       "<div>\n",
       "<style scoped>\n",
       "    .dataframe tbody tr th:only-of-type {\n",
       "        vertical-align: middle;\n",
       "    }\n",
       "\n",
       "    .dataframe tbody tr th {\n",
       "        vertical-align: top;\n",
       "    }\n",
       "\n",
       "    .dataframe thead th {\n",
       "        text-align: right;\n",
       "    }\n",
       "</style>\n",
       "<table border=\"1\" class=\"dataframe\">\n",
       "  <thead>\n",
       "    <tr style=\"text-align: right;\">\n",
       "      <th></th>\n",
       "      <th>IP</th>\n",
       "      <th>DateTime</th>\n",
       "      <th>URL</th>\n",
       "      <th>ResponseCode</th>\n",
       "      <th>Bytes</th>\n",
       "      <th>Referrer</th>\n",
       "      <th>UserAgent</th>\n",
       "      <th>UserId</th>\n",
       "      <th>UNIXTIME</th>\n",
       "      <th>id</th>\n",
       "    </tr>\n",
       "  </thead>\n",
       "  <tbody>\n",
       "    <tr>\n",
       "      <th>1084070</th>\n",
       "      <td>1.10.198.104</td>\n",
       "      <td>[20/Sep/2017:18:28:49</td>\n",
       "      <td>+0200]</td>\n",
       "      <td>GET/wplogin.phpHTTP/1.1</td>\n",
       "      <td>302</td>\n",
       "      <td>3778</td>\n",
       "      <td>nan</td>\n",
       "      <td>13735</td>\n",
       "      <td>-</td>\n",
       "      <td>0</td>\n",
       "    </tr>\n",
       "    <tr>\n",
       "      <th>1084071</th>\n",
       "      <td>1.10.198.104</td>\n",
       "      <td>[20/Sep/2017:18:28:50</td>\n",
       "      <td>+0200]</td>\n",
       "      <td>GET/index.php?option=com_content&amp;view=article&amp;...</td>\n",
       "      <td>200</td>\n",
       "      <td>38691</td>\n",
       "      <td>nan</td>\n",
       "      <td>13735</td>\n",
       "      <td>-</td>\n",
       "      <td>0</td>\n",
       "    </tr>\n",
       "    <tr>\n",
       "      <th>1084073</th>\n",
       "      <td>1.10.198.104</td>\n",
       "      <td>[20/Sep/2017:18:28:51</td>\n",
       "      <td>+0200]</td>\n",
       "      <td>GET/HTTP/1.1</td>\n",
       "      <td>200</td>\n",
       "      <td>50184</td>\n",
       "      <td>nan</td>\n",
       "      <td>13735</td>\n",
       "      <td>-</td>\n",
       "      <td>0</td>\n",
       "    </tr>\n",
       "    <tr>\n",
       "      <th>6106</th>\n",
       "      <td>1.10.213.183</td>\n",
       "      <td>[17/Sep/2017:08:56:54</td>\n",
       "      <td>+0200]</td>\n",
       "      <td>GET/wplogin.phpHTTP/1.1</td>\n",
       "      <td>302</td>\n",
       "      <td>3245</td>\n",
       "      <td>nan</td>\n",
       "      <td>324</td>\n",
       "      <td>-</td>\n",
       "      <td>1</td>\n",
       "    </tr>\n",
       "    <tr>\n",
       "      <th>6107</th>\n",
       "      <td>1.10.213.183</td>\n",
       "      <td>[17/Sep/2017:08:56:55</td>\n",
       "      <td>+0200]</td>\n",
       "      <td>GET/index.php?option=com_content&amp;view=article&amp;...</td>\n",
       "      <td>200</td>\n",
       "      <td>39411</td>\n",
       "      <td>nan</td>\n",
       "      <td>324</td>\n",
       "      <td>-</td>\n",
       "      <td>1</td>\n",
       "    </tr>\n",
       "    <tr>\n",
       "      <th>6108</th>\n",
       "      <td>1.10.213.183</td>\n",
       "      <td>[17/Sep/2017:08:56:57</td>\n",
       "      <td>+0200]</td>\n",
       "      <td>GET/HTTP/1.1</td>\n",
       "      <td>200</td>\n",
       "      <td>51592</td>\n",
       "      <td>nan</td>\n",
       "      <td>324</td>\n",
       "      <td>-</td>\n",
       "      <td>1</td>\n",
       "    </tr>\n",
       "    <tr>\n",
       "      <th>175837</th>\n",
       "      <td>1.121.136.130</td>\n",
       "      <td>[17/Sep/2017:02:32:54</td>\n",
       "      <td>+0200]</td>\n",
       "      <td>GET/wplogin.phpHTTP/1.1</td>\n",
       "      <td>302</td>\n",
       "      <td>3778</td>\n",
       "      <td>nan</td>\n",
       "      <td>3966</td>\n",
       "      <td>-</td>\n",
       "      <td>2</td>\n",
       "    </tr>\n",
       "  </tbody>\n",
       "</table>\n",
       "</div>"
      ],
      "text/plain": [
       "                    IP               DateTime     URL  \\\n",
       "1084070   1.10.198.104  [20/Sep/2017:18:28:49  +0200]   \n",
       "1084071   1.10.198.104  [20/Sep/2017:18:28:50  +0200]   \n",
       "1084073   1.10.198.104  [20/Sep/2017:18:28:51  +0200]   \n",
       "6106      1.10.213.183  [17/Sep/2017:08:56:54  +0200]   \n",
       "6107      1.10.213.183  [17/Sep/2017:08:56:55  +0200]   \n",
       "6108      1.10.213.183  [17/Sep/2017:08:56:57  +0200]   \n",
       "175837   1.121.136.130  [17/Sep/2017:02:32:54  +0200]   \n",
       "\n",
       "                                              ResponseCode Bytes Referrer  \\\n",
       "1084070                            GET/wplogin.phpHTTP/1.1   302     3778   \n",
       "1084071  GET/index.php?option=com_content&view=article&...   200    38691   \n",
       "1084073                                       GET/HTTP/1.1   200    50184   \n",
       "6106                               GET/wplogin.phpHTTP/1.1   302     3245   \n",
       "6107     GET/index.php?option=com_content&view=article&...   200    39411   \n",
       "6108                                          GET/HTTP/1.1   200    51592   \n",
       "175837                             GET/wplogin.phpHTTP/1.1   302     3778   \n",
       "\n",
       "        UserAgent UserId UNIXTIME  id  \n",
       "1084070       nan  13735        -   0  \n",
       "1084071       nan  13735        -   0  \n",
       "1084073       nan  13735        -   0  \n",
       "6106          nan    324        -   1  \n",
       "6107          nan    324        -   1  \n",
       "6108          nan    324        -   1  \n",
       "175837        nan   3966        -   2  "
      ]
     },
     "execution_count": 15,
     "metadata": {},
     "output_type": "execute_result"
    }
   ],
   "source": [
    "df2.head(7)"
   ]
  },
  {
   "cell_type": "code",
   "execution_count": 16,
   "metadata": {},
   "outputs": [],
   "source": [
    "df2.to_csv(r'simko2.csv',  index=None)"
   ]
  },
  {
   "cell_type": "code",
   "execution_count": 17,
   "metadata": {},
   "outputs": [],
   "source": [
    "df3 = pd.read_excel(\"simko3.xlsx\")"
   ]
  },
  {
   "cell_type": "code",
   "execution_count": 20,
   "metadata": {},
   "outputs": [
    {
     "ename": "TypeError",
     "evalue": "unsupported operand type(s) for -: 'str' and 'str'",
     "output_type": "error",
     "traceback": [
      "\u001b[1;31m---------------------------------------------------------------------------\u001b[0m",
      "\u001b[1;31mTypeError\u001b[0m                                 Traceback (most recent call last)",
      "\u001b[1;32m<ipython-input-20-f7c22356580b>\u001b[0m in \u001b[0;36m<module>\u001b[1;34m\u001b[0m\n\u001b[0;32m      4\u001b[0m \u001b[0mnextIndex\u001b[0m \u001b[1;33m=\u001b[0m \u001b[1;36m1\u001b[0m \u001b[1;31m#cyklus ide od 1 po dataframe\u001b[0m\u001b[1;33m\u001b[0m\u001b[1;33m\u001b[0m\u001b[0m\n\u001b[0;32m      5\u001b[0m \u001b[1;32mfor\u001b[0m \u001b[0mi\u001b[0m \u001b[1;32min\u001b[0m \u001b[0mrange\u001b[0m\u001b[1;33m(\u001b[0m\u001b[1;36m1\u001b[0m\u001b[1;33m,\u001b[0m\u001b[0mlen\u001b[0m\u001b[1;33m(\u001b[0m\u001b[0mdf3\u001b[0m\u001b[1;33m)\u001b[0m\u001b[1;33m)\u001b[0m\u001b[1;33m:\u001b[0m\u001b[1;33m\u001b[0m\u001b[1;33m\u001b[0m\u001b[0m\n\u001b[1;32m----> 6\u001b[1;33m     \u001b[1;32mif\u001b[0m\u001b[1;33m(\u001b[0m\u001b[1;33m(\u001b[0m\u001b[0mdf2\u001b[0m\u001b[1;33m.\u001b[0m\u001b[0miloc\u001b[0m\u001b[1;33m[\u001b[0m\u001b[0mnextIndex\u001b[0m\u001b[1;33m,\u001b[0m\u001b[1;33m[\u001b[0m\u001b[1;36m7\u001b[0m\u001b[1;33m]\u001b[0m\u001b[1;33m]\u001b[0m\u001b[1;33m.\u001b[0m\u001b[0mvalues\u001b[0m \u001b[1;33m==\u001b[0m \u001b[0mdf2\u001b[0m\u001b[1;33m.\u001b[0m\u001b[0miloc\u001b[0m\u001b[1;33m[\u001b[0m\u001b[0mindex\u001b[0m\u001b[1;33m,\u001b[0m\u001b[1;33m[\u001b[0m\u001b[1;36m7\u001b[0m\u001b[1;33m]\u001b[0m\u001b[1;33m]\u001b[0m\u001b[1;33m.\u001b[0m\u001b[0mvalues\u001b[0m\u001b[1;33m)\u001b[0m \u001b[1;32mand\u001b[0m \u001b[1;33m(\u001b[0m\u001b[1;33m(\u001b[0m\u001b[0mdf2\u001b[0m\u001b[1;33m.\u001b[0m\u001b[0miloc\u001b[0m\u001b[1;33m[\u001b[0m\u001b[0mnextIndex\u001b[0m\u001b[1;33m,\u001b[0m\u001b[1;33m[\u001b[0m\u001b[1;36m8\u001b[0m\u001b[1;33m]\u001b[0m\u001b[1;33m]\u001b[0m\u001b[1;33m.\u001b[0m\u001b[0mvalues\u001b[0m\u001b[1;33m-\u001b[0m\u001b[0mdf2\u001b[0m\u001b[1;33m.\u001b[0m\u001b[0miloc\u001b[0m\u001b[1;33m[\u001b[0m\u001b[0mindex\u001b[0m\u001b[1;33m,\u001b[0m\u001b[1;33m[\u001b[0m\u001b[1;36m8\u001b[0m\u001b[1;33m]\u001b[0m\u001b[1;33m]\u001b[0m\u001b[1;33m.\u001b[0m\u001b[0mvalues\u001b[0m\u001b[1;33m)\u001b[0m \u001b[1;33m<\u001b[0m \u001b[0mSequenceID\u001b[0m\u001b[1;33m)\u001b[0m\u001b[1;33m)\u001b[0m\u001b[1;33m:\u001b[0m\u001b[1;33m\u001b[0m\u001b[1;33m\u001b[0m\u001b[0m\n\u001b[0m\u001b[0;32m      7\u001b[0m         \u001b[0mlength\u001b[0m\u001b[1;33m.\u001b[0m\u001b[0mappend\u001b[0m\u001b[1;33m(\u001b[0m\u001b[1;33m(\u001b[0m\u001b[0mdf2\u001b[0m\u001b[1;33m.\u001b[0m\u001b[0miloc\u001b[0m\u001b[1;33m[\u001b[0m\u001b[0mnextIndex\u001b[0m\u001b[1;33m,\u001b[0m\u001b[1;33m[\u001b[0m\u001b[1;36m8\u001b[0m\u001b[1;33m]\u001b[0m\u001b[1;33m]\u001b[0m\u001b[1;33m.\u001b[0m\u001b[0mvalues\u001b[0m\u001b[1;33m-\u001b[0m\u001b[0mdf2\u001b[0m\u001b[1;33m.\u001b[0m\u001b[0miloc\u001b[0m\u001b[1;33m[\u001b[0m\u001b[0mindex\u001b[0m\u001b[1;33m,\u001b[0m\u001b[1;33m[\u001b[0m\u001b[1;36m8\u001b[0m\u001b[1;33m]\u001b[0m\u001b[1;33m]\u001b[0m\u001b[1;33m.\u001b[0m\u001b[0mvalues\u001b[0m\u001b[1;33m)\u001b[0m\u001b[1;33m)\u001b[0m\u001b[1;33m\u001b[0m\u001b[1;33m\u001b[0m\u001b[0m\n\u001b[0;32m      8\u001b[0m         \u001b[0mindex\u001b[0m\u001b[1;33m+=\u001b[0m\u001b[1;36m1\u001b[0m\u001b[1;33m\u001b[0m\u001b[1;33m\u001b[0m\u001b[0m\n",
      "\u001b[1;31mTypeError\u001b[0m: unsupported operand type(s) for -: 'str' and 'str'"
     ]
    }
   ],
   "source": [
    "SequenceID = 3600 # je čas sekunach (zadaný v zadaní)\n",
    "length = []\n",
    "index = 0\n",
    "nextIndex = 1 #cyklus ide od 1 po dataframe \n",
    "for i in range(1,len(df3)):\n",
    "    if((df2.iloc[nextIndex,[7]].values == df2.iloc[index,[7]].values) and ((df2.iloc[nextIndex,[8]].values-df2.iloc[index,[8]].values) < SequenceID)):\n",
    "        length.append(str(df2.iloc[nextIndex,[8]].values-df2.iloc[index,[8]].values))\n",
    "        index+=1\n",
    "        nextIndex+=1\n",
    "    else:\n",
    "        length.append(\"\")\n",
    "        index+=1\n",
    "        nextIndex+=1\n",
    "\n",
    "length.append(\"\") # priradí hodnotu stplci"
   ]
  },
  {
   "cell_type": "code",
   "execution_count": null,
   "metadata": {},
   "outputs": [],
   "source": [
    "df3[\"length\"] = length"
   ]
  },
  {
   "cell_type": "code",
   "execution_count": null,
   "metadata": {},
   "outputs": [],
   "source": [
    "df3[\"length\"] = df3[\"length\"].apply(lambda x: x.replace(\"[\", \"\")) # odstranime znaky \n",
    "df3[\"length\"] = df3[\"length\"].apply(lambda x: x.replace(\"]\", \"\"))"
   ]
  },
  {
   "cell_type": "code",
   "execution_count": null,
   "metadata": {},
   "outputs": [],
   "source": [
    "df3['length'] = pd.to_numeric(df3['length']) #zmenime hodnotu length na čiselnu hodnotu"
   ]
  },
  {
   "cell_type": "code",
   "execution_count": null,
   "metadata": {},
   "outputs": [],
   "source": [
    "df3.to_csv(r'simko3.csv',  index=None)"
   ]
  },
  {
   "cell_type": "code",
   "execution_count": null,
   "metadata": {},
   "outputs": [],
   "source": [
    "df4 = pd.read_csv(\"simko3.csv\")"
   ]
  },
  {
   "cell_type": "code",
   "execution_count": null,
   "metadata": {},
   "outputs": [],
   "source": [
    "# C = -ln(1-p)/ lambda ... kde lambda = 1/rlength...\n",
    "#lambda = 1/priemerna intenzita udalosti alebo priemerna dlzka navstev\n",
    "\n",
    "podielNavigacnychStranok = 40 # % .. hodnota bola uvedena v ulohe\n",
    "p = podielNavigacnychStranok/100 # p je relativna pocetnost navigacnych stranok, 0 <= p < 1 ... v nasom pripade to bude 40/100 = 0,40\n",
    "hodnotaLambda = df4[\"length\"].mean() # priemerna dlzka navstev alebo priemerna intenzia udalosti\n",
    "c = -np.log(1-p)/(1/hodnotaLambda)"
   ]
  },
  {
   "cell_type": "code",
   "execution_count": null,
   "metadata": {},
   "outputs": [],
   "source": [
    "c "
   ]
  },
  {
   "cell_type": "code",
   "execution_count": null,
   "metadata": {},
   "outputs": [],
   "source": [
    "df4.info()"
   ]
  },
  {
   "cell_type": "code",
   "execution_count": null,
   "metadata": {},
   "outputs": [],
   "source": [
    "sedenia = []\n",
    "sedeniaNumber = 1 # zaciname od jednotky\n",
    "i = 0\n",
    "pamat = 0  \n",
    "while i < 20567:\n",
    "    if(df4.iloc[i,7] == df.iloc[i+1,7]): # ked userID na indexe i sa bude rovnat nasledujucemu riadku\n",
    "        pamat += df4.iloc[i,10] # v pamati ulozime riadok i zo stlpca length\n",
    "        if(pamat < c): # ked hodnota premennej pamat je mensia ako c (hranicny cas)\n",
    "            sedenia.append(sedeniaNumber) # pridavame do zoznamu\n",
    "        else:\n",
    "            sedenia.append(sedeniaNumber) \n",
    "            pamat = 0 #kedze to je uz cast else, musime hodnotu pamati vynulovat\n",
    "            sedeniaNumber+=1 # zvysime hodnotu sedeniaNumber o 1\n",
    "        i+=1 \n",
    "    else:\n",
    "        pamat = 0\n",
    "        sedenia.append(sedeniaNumber)\n",
    "        sedeniaNumber+=1\n",
    "        i+=1\n",
    "sedenia.append(sedeniaNumber)"
   ]
  },
  {
   "cell_type": "code",
   "execution_count": null,
   "metadata": {},
   "outputs": [],
   "source": [
    "df4[\"RLength\"] = sedenia # pridavame novy stlpec s hodnotami sedenia do nasho dataframu"
   ]
  },
  {
   "cell_type": "code",
   "execution_count": null,
   "metadata": {},
   "outputs": [],
   "source": [
    "df4.to_csv(r'simko4.csv',  index=None)"
   ]
  },
  {
   "cell_type": "code",
   "execution_count": null,
   "metadata": {},
   "outputs": [],
   "source": []
  }
 ],
 "metadata": {
  "kernelspec": {
   "display_name": "Python 3",
   "language": "python",
   "name": "python3"
  },
  "language_info": {
   "codemirror_mode": {
    "name": "ipython",
    "version": 3
   },
   "file_extension": ".py",
   "mimetype": "text/x-python",
   "name": "python",
   "nbconvert_exporter": "python",
   "pygments_lexer": "ipython3",
   "version": "3.8.5"
  }
 },
 "nbformat": 4,
 "nbformat_minor": 4
}
